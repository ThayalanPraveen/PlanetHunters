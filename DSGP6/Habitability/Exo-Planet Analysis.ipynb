{
 "cells": [
  {
   "cell_type": "code",
   "execution_count": 4,
   "id": "f16e9cfc",
   "metadata": {},
   "outputs": [
    {
     "name": "stdout",
     "output_type": "stream",
     "text": [
      "Collecting p-winds\n",
      "  Using cached p_winds-1.2.3-py3-none-any.whl (29 kB)\n",
      "Requirement already satisfied: numpy in c:\\users\\kaishka hewageegana\\anaconda3\\lib\\site-packages (from p-winds) (1.20.1)\n",
      "Requirement already satisfied: astropy in c:\\users\\kaishka hewageegana\\anaconda3\\lib\\site-packages (from p-winds) (4.2.1)\n",
      "Collecting flatstar\n",
      "  Using cached flatstar-0.2.1a0-py3-none-any.whl (9.2 kB)\n",
      "Requirement already satisfied: scipy>=1.5 in c:\\users\\kaishka hewageegana\\anaconda3\\lib\\site-packages (from p-winds) (1.6.2)\n",
      "Requirement already satisfied: pyerfa in c:\\users\\kaishka hewageegana\\anaconda3\\lib\\site-packages (from astropy->p-winds) (1.7.3)\n",
      "Requirement already satisfied: pillow in c:\\users\\kaishka hewageegana\\anaconda3\\lib\\site-packages (from flatstar->p-winds) (8.2.0)\n",
      "Installing collected packages: flatstar, p-winds\n",
      "Successfully installed flatstar-0.2.1a0 p-winds-1.2.3\n"
     ]
    }
   ],
   "source": [
    "!pip install p-winds"
   ]
  },
  {
   "cell_type": "code",
   "execution_count": 6,
   "id": "a493a87e",
   "metadata": {},
   "outputs": [],
   "source": [
    "import numpy as np\n",
    "import matplotlib.pyplot as plt\n",
    "import matplotlib.pylab as pylab\n",
    "import astropy.units as u\n",
    "import astropy.constants as c\n",
    "from p_winds import tools, parker, hydrogen, helium, transit, microphysics\n",
    "\n",
    "pylab.rcParams['figure.figsize'] = 9.0,6.5\n",
    "pylab.rcParams['font.size'] = 18"
   ]
  },
  {
   "cell_type": "code",
   "execution_count": 7,
   "id": "e5e7a0f2",
   "metadata": {},
   "outputs": [],
   "source": [
    "# HD 209458 b planetary parameters, measured\n",
    "R_pl = 2.4  # Planetary radius in Jupiter radii\n",
    "M_pl = 0.73  # Planetary mass in Jupiter masses\n",
    "impact_parameter = 0.499  # Transit impact parameter\n",
    "\n",
    "# A few assumptions about the planet's atmosphere\n",
    "m_dot = 10 ** 10.27  # Total atmospheric escape rate in g / s\n",
    "T_0 = 9100  # Wind temperature in K\n",
    "h_fraction = 0.90  # H number fraction\n",
    "he_fraction = 1 - h_fraction  # He number fraction\n",
    "he_h_fraction = he_fraction / h_fraction\n",
    "mean_f_ion = 0.0  # Mean ionization fraction (will be self-consistently calculated later)\n",
    "mu_0 = (1 + 4 * he_h_fraction) / (1 + he_h_fraction + mean_f_ion)  \n",
    "# mu_0 is the constant mean molecular weight (assumed for now, will be updated later)"
   ]
  },
  {
   "cell_type": "code",
   "execution_count": 19,
   "id": "46253de4",
   "metadata": {},
   "outputs": [
    {
     "name": "stderr",
     "output_type": "stream",
     "text": [
      "'wget' is not recognized as an internal or external command,\n",
      "operable program or batch file.\n"
     ]
    }
   ],
   "source": [
    "# Download the data\n",
    "!wget ('mast:HLSP/qlp/s0008/0000/0001/4524/1359/hlsp_qlp_tess_ffi_s0008-0000000145241359_tess_v01_llc.fits')\n",
    "\n",
    "units = {'wavelength': u.angstrom, 'flux': u.erg / u.s / u.cm ** 2 / u.angstrom}\n",
    "spectrum = tools.make_spectrum_from_file('hlsp_qlp_tess_ffi_s0008-0000000145241359_tess_v01_llc.fits',\n",
    "                                    units)\n",
    "plt.loglog(spectrum['wavelength'], spectrum['flux_lambda'])\n",
    "plt.ylim(1E-5, 1E4)\n",
    "plt.xlabel(r'Wavelength (${\\rm \\AA}$)')\n",
    "plt.ylabel(r'Flux density (erg s$^{-1}$ cm$^{-2}$ ${\\rm \\AA}^{-1}$)')\n",
    "plt.show()"
   ]
  },
  {
   "cell_type": "code",
   "execution_count": null,
   "id": "1ea44790",
   "metadata": {},
   "outputs": [],
   "source": []
  }
 ],
 "metadata": {
  "kernelspec": {
   "display_name": "Python 3",
   "language": "python",
   "name": "python3"
  },
  "language_info": {
   "codemirror_mode": {
    "name": "ipython",
    "version": 3
   },
   "file_extension": ".py",
   "mimetype": "text/x-python",
   "name": "python",
   "nbconvert_exporter": "python",
   "pygments_lexer": "ipython3",
   "version": "3.8.8"
  }
 },
 "nbformat": 4,
 "nbformat_minor": 5
}
