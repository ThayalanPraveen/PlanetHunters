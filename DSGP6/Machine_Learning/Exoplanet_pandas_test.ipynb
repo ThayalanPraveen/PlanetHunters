{
  "cells": [
    {
      "cell_type": "code",
      "execution_count": 47,
      "metadata": {},
      "outputs": [],
      "source": [
        "import joblib\n",
        "import numpy as np\n",
        "import pandas as pd"
      ]
    },
    {
      "cell_type": "code",
      "execution_count": 48,
      "metadata": {},
      "outputs": [],
      "source": [
        "array = joblib.load('Dataset.joblib')\n"
      ]
    },
    {
      "cell_type": "code",
      "execution_count": 49,
      "metadata": {},
      "outputs": [
        {
          "data": {
            "text/plain": [
              "4"
            ]
          },
          "execution_count": 49,
          "metadata": {},
          "output_type": "execute_result"
        }
      ],
      "source": [
        "len(array)"
      ]
    },
    {
      "cell_type": "code",
      "execution_count": 50,
      "metadata": {},
      "outputs": [],
      "source": [
        "df = pd.DataFrame(array)"
      ]
    },
    {
      "cell_type": "code",
      "execution_count": 51,
      "metadata": {},
      "outputs": [
        {
          "data": {
            "text/html": [
              "<div>\n",
              "<style scoped>\n",
              "    .dataframe tbody tr th:only-of-type {\n",
              "        vertical-align: middle;\n",
              "    }\n",
              "\n",
              "    .dataframe tbody tr th {\n",
              "        vertical-align: top;\n",
              "    }\n",
              "\n",
              "    .dataframe thead th {\n",
              "        text-align: right;\n",
              "    }\n",
              "</style>\n",
              "<table border=\"1\" class=\"dataframe\">\n",
              "  <thead>\n",
              "    <tr style=\"text-align: right;\">\n",
              "      <th></th>\n",
              "      <th>0</th>\n",
              "      <th>1</th>\n",
              "      <th>2</th>\n",
              "      <th>3</th>\n",
              "      <th>4</th>\n",
              "      <th>5</th>\n",
              "      <th>6</th>\n",
              "      <th>7</th>\n",
              "      <th>8</th>\n",
              "      <th>9</th>\n",
              "      <th>...</th>\n",
              "      <th>65006</th>\n",
              "      <th>65007</th>\n",
              "      <th>65008</th>\n",
              "      <th>65009</th>\n",
              "      <th>65010</th>\n",
              "      <th>65011</th>\n",
              "      <th>65012</th>\n",
              "      <th>65013</th>\n",
              "      <th>65014</th>\n",
              "      <th>65015</th>\n",
              "    </tr>\n",
              "  </thead>\n",
              "  <tbody>\n",
              "    <tr>\n",
              "      <th>0</th>\n",
              "      <td>10797460</td>\n",
              "      <td>CONFIRMED</td>\n",
              "      <td>11292.760742</td>\n",
              "      <td>11281.872070</td>\n",
              "      <td>11298.019531</td>\n",
              "      <td>11284.711914</td>\n",
              "      <td>11292.368164</td>\n",
              "      <td>11296.479492</td>\n",
              "      <td>11288.382812</td>\n",
              "      <td>11288.015625</td>\n",
              "      <td>...</td>\n",
              "      <td>10834.28125</td>\n",
              "      <td>10841.144531</td>\n",
              "      <td>10834.499023</td>\n",
              "      <td>10839.880859</td>\n",
              "      <td>10841.941406</td>\n",
              "      <td>10835.292969</td>\n",
              "      <td>10837.441406</td>\n",
              "      <td>10832.650391</td>\n",
              "      <td>10831.757812</td>\n",
              "      <td>10839.983398</td>\n",
              "    </tr>\n",
              "    <tr>\n",
              "      <th>1</th>\n",
              "      <td>10797460</td>\n",
              "      <td>CONFIRMED</td>\n",
              "      <td>11292.760742</td>\n",
              "      <td>11281.872070</td>\n",
              "      <td>11298.019531</td>\n",
              "      <td>11284.711914</td>\n",
              "      <td>11292.368164</td>\n",
              "      <td>11296.479492</td>\n",
              "      <td>11288.382812</td>\n",
              "      <td>11288.015625</td>\n",
              "      <td>...</td>\n",
              "      <td>10834.28125</td>\n",
              "      <td>10841.144531</td>\n",
              "      <td>10834.499023</td>\n",
              "      <td>10839.880859</td>\n",
              "      <td>10841.941406</td>\n",
              "      <td>10835.292969</td>\n",
              "      <td>10837.441406</td>\n",
              "      <td>10832.650391</td>\n",
              "      <td>10831.757812</td>\n",
              "      <td>10839.983398</td>\n",
              "    </tr>\n",
              "    <tr>\n",
              "      <th>2</th>\n",
              "      <td>10811496</td>\n",
              "      <td>CANDIDATE</td>\n",
              "      <td>8899.561523</td>\n",
              "      <td>8900.065430</td>\n",
              "      <td>8901.698242</td>\n",
              "      <td>8912.355469</td>\n",
              "      <td>8905.543945</td>\n",
              "      <td>8903.797852</td>\n",
              "      <td>8897.439453</td>\n",
              "      <td>8899.613281</td>\n",
              "      <td>...</td>\n",
              "      <td>NaN</td>\n",
              "      <td>NaN</td>\n",
              "      <td>NaN</td>\n",
              "      <td>NaN</td>\n",
              "      <td>NaN</td>\n",
              "      <td>NaN</td>\n",
              "      <td>NaN</td>\n",
              "      <td>NaN</td>\n",
              "      <td>NaN</td>\n",
              "      <td>NaN</td>\n",
              "    </tr>\n",
              "    <tr>\n",
              "      <th>3</th>\n",
              "      <td>10848459</td>\n",
              "      <td>FALSE POSITIVE</td>\n",
              "      <td>8203.690430</td>\n",
              "      <td>8201.837891</td>\n",
              "      <td>8202.610352</td>\n",
              "      <td>8200.041016</td>\n",
              "      <td>8194.414062</td>\n",
              "      <td>8203.027344</td>\n",
              "      <td>8203.117188</td>\n",
              "      <td>8204.064453</td>\n",
              "      <td>...</td>\n",
              "      <td>NaN</td>\n",
              "      <td>NaN</td>\n",
              "      <td>NaN</td>\n",
              "      <td>NaN</td>\n",
              "      <td>NaN</td>\n",
              "      <td>NaN</td>\n",
              "      <td>NaN</td>\n",
              "      <td>NaN</td>\n",
              "      <td>NaN</td>\n",
              "      <td>NaN</td>\n",
              "    </tr>\n",
              "  </tbody>\n",
              "</table>\n",
              "<p>4 rows × 65016 columns</p>\n",
              "</div>"
            ],
            "text/plain": [
              "      0               1             2             3             4      \\\n",
              "0  10797460       CONFIRMED  11292.760742  11281.872070  11298.019531   \n",
              "1  10797460       CONFIRMED  11292.760742  11281.872070  11298.019531   \n",
              "2  10811496       CANDIDATE   8899.561523   8900.065430   8901.698242   \n",
              "3  10848459  FALSE POSITIVE   8203.690430   8201.837891   8202.610352   \n",
              "\n",
              "          5             6             7             8             9      ...  \\\n",
              "0  11284.711914  11292.368164  11296.479492  11288.382812  11288.015625  ...   \n",
              "1  11284.711914  11292.368164  11296.479492  11288.382812  11288.015625  ...   \n",
              "2   8912.355469   8905.543945   8903.797852   8897.439453   8899.613281  ...   \n",
              "3   8200.041016   8194.414062   8203.027344   8203.117188   8204.064453  ...   \n",
              "\n",
              "         65006         65007         65008         65009         65010  \\\n",
              "0  10834.28125  10841.144531  10834.499023  10839.880859  10841.941406   \n",
              "1  10834.28125  10841.144531  10834.499023  10839.880859  10841.941406   \n",
              "2          NaN           NaN           NaN           NaN           NaN   \n",
              "3          NaN           NaN           NaN           NaN           NaN   \n",
              "\n",
              "          65011         65012         65013         65014         65015  \n",
              "0  10835.292969  10837.441406  10832.650391  10831.757812  10839.983398  \n",
              "1  10835.292969  10837.441406  10832.650391  10831.757812  10839.983398  \n",
              "2           NaN           NaN           NaN           NaN           NaN  \n",
              "3           NaN           NaN           NaN           NaN           NaN  \n",
              "\n",
              "[4 rows x 65016 columns]"
            ]
          },
          "execution_count": 51,
          "metadata": {},
          "output_type": "execute_result"
        }
      ],
      "source": [
        "df"
      ]
    }
  ],
  "metadata": {
    "colab": {
      "collapsed_sections": [],
      "name": "Exoplanet_ML.ipynb",
      "provenance": []
    },
    "kernelspec": {
      "display_name": "Python 3",
      "name": "python3"
    },
    "language_info": {
      "codemirror_mode": {
        "name": "ipython",
        "version": 3
      },
      "file_extension": ".py",
      "mimetype": "text/x-python",
      "name": "python",
      "nbconvert_exporter": "python",
      "pygments_lexer": "ipython3",
      "version": "3.9.7"
    }
  },
  "nbformat": 4,
  "nbformat_minor": 0
}
