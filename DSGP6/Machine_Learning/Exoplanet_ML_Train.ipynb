{
  "cells": [
    {
      "cell_type": "code",
      "execution_count": 47,
      "metadata": {
        "id": "cG4vt72lJb1h"
      },
      "outputs": [],
      "source": [
        "# Import packages\n",
        "%matplotlib inline\n",
        "import pandas as pd\n",
        "import numpy as np\n",
        "import matplotlib.pyplot as plt\n",
        "import seaborn as sns\n",
        "\n",
        "# Sklearn Packages\n",
        "from sklearn.linear_model import LogisticRegression\n",
        "from sklearn.tree import DecisionTreeClassifier\n",
        "from sklearn.neighbors import KNeighborsClassifier\n",
        "from sklearn.model_selection import train_test_split, GridSearchCV\n",
        "from sklearn.ensemble import RandomForestClassifier\n",
        "\n",
        "# Sklearn Evaluation Metrics\n",
        "from sklearn import metrics\n",
        "from sklearn.metrics import mean_squared_error, precision_score, confusion_matrix, accuracy_score\n",
        "\n",
        "# Visualizes all the columns\n",
        "pd.set_option('display.max_columns', None)\n",
        "\n",
        "import warnings\n",
        "warnings.filterwarnings(\"ignore\", category=DeprecationWarning)\n",
        "warnings.filterwarnings(\"ignore\", category=FutureWarning)"
      ]
    },
    {
      "cell_type": "code",
      "execution_count": 48,
      "metadata": {
        "colab": {
          "base_uri": "https://localhost:8080/",
          "height": 288
        },
        "id": "RpW8kTEIL7LO",
        "outputId": "a725de07-291d-4b5c-ac13-441bdcf4bde4"
      },
      "outputs": [],
      "source": [
        "# Import dataset\n",
        "#path = '/content/Exoplanet_ml'\n",
        "\n",
        "df = pd.read_csv('cleaned.csv')\n"
      ]
    },
    {
      "cell_type": "code",
      "execution_count": 49,
      "metadata": {
        "id": "QXnQbO5smkxv"
      },
      "outputs": [],
      "source": [
        "features = df.drop(columns=['row','kepid','koi_disposition','koi_score','ExoplanetCandidate'])\n",
        "target = df.ExoplanetCandidate"
      ]
    },
    {
      "cell_type": "code",
      "execution_count": 50,
      "metadata": {},
      "outputs": [],
      "source": [
        "df[df.select_dtypes(np.float64).columns] = df.select_dtypes(np.float64).astype(np.float32)"
      ]
    },
    {
      "cell_type": "code",
      "execution_count": 51,
      "metadata": {
        "id": "2KDfAWoCmoNO"
      },
      "outputs": [],
      "source": [
        "X_train, X_test, y_train, y_test = train_test_split(features, target, random_state=1, test_size=.25)"
      ]
    },
    {
      "cell_type": "code",
      "execution_count": 52,
      "metadata": {
        "id": "kcw5sR2BmfFw"
      },
      "outputs": [],
      "source": [
        "# Evaluation function\n",
        "\n",
        "def evaluation(y_true, y_pred):\n",
        "    \n",
        "# Print Accuracy, Recall, F1 Score, and Precision metrics.\n",
        "    print('Evaluation Metrics:')\n",
        "    print('Accuracy: ' + str(metrics.accuracy_score(y_test, y_pred)))\n",
        "    print('Recall: ' + str(metrics.recall_score(y_test, y_pred)))\n",
        "    print('F1 Score: ' + str(metrics.f1_score(y_test, y_pred)))\n",
        "    print('Precision: ' + str(metrics.precision_score(y_test, y_pred)))\n",
        "    \n",
        "# Print Confusion Matrix\n",
        "    print('\\nConfusion Matrix:')\n",
        "    print(' TN,  FP, FN, TP')\n",
        "    print(confusion_matrix(y_true, y_pred).ravel())\n",
        "    \n",
        "# Function Prints best parameters for GridSearchCV\n",
        "def print_results(results):\n",
        "    print('Best Parameters: {}\\n'.format(results.best_params_)) \n",
        "    "
      ]
    },
    {
      "cell_type": "code",
      "execution_count": 53,
      "metadata": {
        "colab": {
          "base_uri": "https://localhost:8080/"
        },
        "id": "pi4HiAn4msnH",
        "outputId": "8ec48b43-55b1-496e-9c3f-5538a37f707d"
      },
      "outputs": [
        {
          "name": "stdout",
          "output_type": "stream",
          "text": [
            "Evaluation Metrics:\n",
            "Accuracy: 0.6253731343283582\n",
            "Recall: 0.7204724409448819\n",
            "F1 Score: 0.7446592065106816\n",
            "Precision: 0.7705263157894737\n",
            "\n",
            "Confusion Matrix:\n",
            " TN,  FP, FN, TP\n",
            "[ 53 109 142 366]\n"
          ]
        }
      ],
      "source": [
        "# Logistic Regression Model\n",
        "lr = LogisticRegression(C=100, max_iter=200, class_weight='balanced')\n",
        "\n",
        "# Fitting Model to the train set\n",
        "lr.fit(X_train, y_train)\n",
        "\n",
        "# Predicting on the test set\n",
        "y_pred = lr.predict(X_test)\n",
        "\n",
        "# Evaluating model\n",
        "evaluation(y_test, y_pred)"
      ]
    },
    {
      "cell_type": "code",
      "execution_count": 54,
      "metadata": {
        "colab": {
          "base_uri": "https://localhost:8080/"
        },
        "id": "935EnPpBm5hB",
        "outputId": "c6b01fce-a8b8-4ee9-e9b9-af4baeb1fde4"
      },
      "outputs": [
        {
          "name": "stdout",
          "output_type": "stream",
          "text": [
            "Evaluation Metrics:\n",
            "Accuracy: 0.7044776119402985\n",
            "Recall: 0.8858267716535433\n",
            "F1 Score: 0.819672131147541\n",
            "Precision: 0.7627118644067796\n",
            "\n",
            "Confusion Matrix:\n",
            " TN,  FP, FN, TP\n",
            "[ 22 140  58 450]\n"
          ]
        }
      ],
      "source": [
        "knn = KNeighborsClassifier(leaf_size=8, metric='manhattan',weights='uniform')\n",
        "\n",
        "# Fitting Model to the train set\n",
        "knn.fit(X_train, y_train)\n",
        "\n",
        "# Predicting on the test set\n",
        "y_pred = knn.predict(X_test)\n",
        "\n",
        "# Evaluating model\n",
        "evaluation(y_test, y_pred)"
      ]
    },
    {
      "cell_type": "code",
      "execution_count": 55,
      "metadata": {
        "colab": {
          "base_uri": "https://localhost:8080/"
        },
        "id": "Zg00qQWpm-nO",
        "outputId": "85ee6c0c-9c0d-4356-bc8e-c9ee549f011c"
      },
      "outputs": [
        {
          "name": "stdout",
          "output_type": "stream",
          "text": [
            "Evaluation Metrics:\n",
            "Accuracy: 0.7014925373134329\n",
            "Recall: 0.8208661417322834\n",
            "F1 Score: 0.8065764023210832\n",
            "Precision: 0.7927756653992395\n",
            "\n",
            "Confusion Matrix:\n",
            " TN,  FP, FN, TP\n",
            "[ 53 109  91 417]\n"
          ]
        }
      ],
      "source": [
        "tree = DecisionTreeClassifier()\n",
        "\n",
        "# Fitting Model to the train set\n",
        "tree.fit(X_train, y_train)\n",
        "\n",
        "# Predicting on the test set\n",
        "y_pred = tree.predict(X_test)\n",
        "\n",
        "# Evaluating model\n",
        "evaluation(y_test, y_pred)"
      ]
    },
    {
      "cell_type": "code",
      "execution_count": 56,
      "metadata": {
        "id": "dvra6xlc9aNx"
      },
      "outputs": [],
      "source": [
        "from sklearn.metrics import accuracy_score, confusion_matrix, classification_report\n",
        "from tqdm.notebook import tqdm\n",
        "from time import sleep"
      ]
    },
    {
      "cell_type": "markdown",
      "metadata": {
        "id": "KGTqp4fp9frY"
      },
      "source": []
    },
    {
      "cell_type": "code",
      "execution_count": 57,
      "metadata": {
        "colab": {
          "base_uri": "https://localhost:8080/"
        },
        "id": "VmbruzFxnBve",
        "outputId": "befca4a2-257a-48f5-ddc9-1385107d8620"
      },
      "outputs": [
        {
          "data": {
            "application/vnd.jupyter.widget-view+json": {
              "model_id": "93c06974f1ab44c5b40e79be6b2d1c89",
              "version_major": 2,
              "version_minor": 0
            },
            "text/plain": [
              "  0%|          | 0/1 [00:00<?, ?it/s]"
            ]
          },
          "metadata": {},
          "output_type": "display_data"
        },
        {
          "name": "stdout",
          "output_type": "stream",
          "text": [
            "Evaluation Metrics:\n",
            "Accuracy: 0.7134328358208956\n",
            "Recall: 0.8582677165354331\n",
            "F1 Score: 0.8195488721804511\n",
            "Precision: 0.7841726618705036\n",
            "\n",
            "Confusion Matrix:\n",
            " TN,  FP, FN, TP\n",
            "[ 42 120  72 436]\n",
            "Tree: 500 \n"
          ]
        }
      ],
      "source": [
        "parameter_n_estimators = [500]\n",
        "for i in tqdm(parameter_n_estimators):\n",
        "    # Instantiate model\n",
        "    forest = RandomForestClassifier(n_estimators=i, criterion='gini')\n",
        "    # Fitting Model to the train set\n",
        "    forest.fit(X_train, y_train)\n",
        "    # Predicting on the test set\n",
        "    y_pred = forest.predict(X_test)\n",
        "\n",
        "    # Evaluating model\n",
        "    evaluation(y_test, y_pred)\n",
        "    print('Tree: %s ' % (i))"
      ]
    },
    {
      "cell_type": "code",
      "execution_count": 58,
      "metadata": {
        "id": "RdwbFpvrCns_"
      },
      "outputs": [],
      "source": [
        "import joblib\n",
        "import lightkurve as lk\n",
        "import pickle\n",
        "from pathlib import Path\n",
        "import os\n"
      ]
    },
    {
      "cell_type": "code",
      "execution_count": 20,
      "metadata": {
        "colab": {
          "base_uri": "https://localhost:8080/"
        },
        "id": "-WCbmCpOCt0H",
        "outputId": "e5d9fa3b-7561-42c4-d6f7-55c925bd3448"
      },
      "outputs": [],
      "source": [
        "#joblib.dump(forest, 'trained_models/ml_model3.joblib')"
      ]
    },
    {
      "cell_type": "code",
      "execution_count": 59,
      "metadata": {},
      "outputs": [],
      "source": [
        "T_name = 'TIC 145241359'\n",
        "search_result = lk.search_lightcurve(T_name)\n",
        "lc = search_result[0].download()"
      ]
    },
    {
      "cell_type": "code",
      "execution_count": 61,
      "metadata": {},
      "outputs": [],
      "source": [
        "flux = lc.flux\n",
        "arr = []\n",
        "for x in range(0,1625):\n",
        "    try:\n",
        "        arr.append(float(flux[x].value))\n",
        "    except:\n",
        "        pass\n",
        "arr2 = pd.DataFrame(arr)\n",
        "arr3 =[]\n",
        "for x in range(0,1625):\n",
        "    try:\n",
        "        arr3.append(arr2[0][x])\n",
        "    except:\n",
        "        arr3.append(0)\n",
        "for x in range(0,1625):\n",
        "    temp = str(arr3[x])\n",
        "    if temp == 'nan' :\n",
        "        arr3[x] = 0\n",
        "\n"
      ]
    },
    {
      "cell_type": "code",
      "execution_count": 44,
      "metadata": {},
      "outputs": [
        {
          "name": "stderr",
          "output_type": "stream",
          "text": [
            "/Users/thayalanpraveen/Documents/Project_Interpreter/Env/lib/python3.9/site-packages/sklearn/base.py:450: UserWarning: X does not have valid feature names, but RandomForestClassifier was fitted with feature names\n",
            "  warnings.warn(\n"
          ]
        }
      ],
      "source": [
        "model = joblib.load('trained_models/ml_model3.joblib')\n",
        "result = model.predict([arr3])"
      ]
    },
    {
      "cell_type": "code",
      "execution_count": 45,
      "metadata": {},
      "outputs": [
        {
          "name": "stdout",
          "output_type": "stream",
          "text": [
            "[0]\n"
          ]
        }
      ],
      "source": [
        "print(result)"
      ]
    },
    {
      "cell_type": "code",
      "execution_count": 62,
      "metadata": {},
      "outputs": [
        {
          "name": "stderr",
          "output_type": "stream",
          "text": [
            "/Users/thayalanpraveen/Documents/Project_Interpreter/Env/lib/python3.9/site-packages/sklearn/base.py:450: UserWarning: X does not have valid feature names, but RandomForestClassifier was fitted with feature names\n",
            "  warnings.warn(\n"
          ]
        }
      ],
      "source": [
        "test1 = forest.predict([arr3])"
      ]
    },
    {
      "cell_type": "code",
      "execution_count": 63,
      "metadata": {},
      "outputs": [
        {
          "name": "stdout",
          "output_type": "stream",
          "text": [
            "[1]\n"
          ]
        }
      ],
      "source": [
        "print(test1)"
      ]
    }
  ],
  "metadata": {
    "colab": {
      "collapsed_sections": [],
      "name": "Exoplanet_ML.ipynb",
      "provenance": []
    },
    "kernelspec": {
      "display_name": "Python 3",
      "name": "python3"
    },
    "language_info": {
      "codemirror_mode": {
        "name": "ipython",
        "version": 3
      },
      "file_extension": ".py",
      "mimetype": "text/x-python",
      "name": "python",
      "nbconvert_exporter": "python",
      "pygments_lexer": "ipython3",
      "version": "3.9.7"
    }
  },
  "nbformat": 4,
  "nbformat_minor": 0
}
