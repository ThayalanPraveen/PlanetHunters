{
  "cells": [
    {
      "cell_type": "code",
      "execution_count": null,
      "metadata": {
        "id": "cG4vt72lJb1h"
      },
      "outputs": [],
      "source": [
        "# Import packages\n",
        "%matplotlib inline\n",
        "import pandas as pd\n",
        "import numpy as np\n",
        "import matplotlib.pyplot as plt\n",
        "import seaborn as sns\n",
        "\n",
        "# Sklearn Packages\n",
        "from sklearn.linear_model import LogisticRegression\n",
        "from sklearn.tree import DecisionTreeClassifier\n",
        "from sklearn.neighbors import KNeighborsClassifier\n",
        "from sklearn.model_selection import train_test_split, GridSearchCV\n",
        "from sklearn.ensemble import RandomForestClassifier\n",
        "\n",
        "# Sklearn Evaluation Metrics\n",
        "from sklearn import metrics\n",
        "from sklearn.metrics import mean_squared_error, precision_score, confusion_matrix, accuracy_score\n",
        "\n",
        "# Visualizes all the columns\n",
        "pd.set_option('display.max_columns', None)\n",
        "\n",
        "import warnings\n",
        "warnings.filterwarnings(\"ignore\", category=DeprecationWarning)\n",
        "warnings.filterwarnings(\"ignore\", category=FutureWarning)"
      ]
    },
    {
      "cell_type": "code",
      "execution_count": null,
      "metadata": {
        "colab": {
          "base_uri": "https://localhost:8080/",
          "height": 288
        },
        "id": "RpW8kTEIL7LO",
        "outputId": "a725de07-291d-4b5c-ac13-441bdcf4bde4"
      },
      "outputs": [],
      "source": [
        "# Import dataset\n",
        "#path = '/content/Exoplanet_ml'\n",
        "\n",
        "df = pd.read_csv('cleaned.csv')\n"
      ]
    },
    {
      "cell_type": "code",
      "execution_count": null,
      "metadata": {
        "id": "QXnQbO5smkxv"
      },
      "outputs": [],
      "source": [
        "features = df.drop(columns=['row','kepid','koi_disposition','koi_score','ExoplanetCandidate'])\n",
        "target = df.ExoplanetCandidate"
      ]
    },
    {
      "cell_type": "code",
      "execution_count": null,
      "metadata": {},
      "outputs": [],
      "source": [
        "df[df.select_dtypes(np.float64).columns] = df.select_dtypes(np.float64).astype(np.float32)"
      ]
    },
    {
      "cell_type": "code",
      "execution_count": 179,
      "metadata": {
        "id": "2KDfAWoCmoNO"
      },
      "outputs": [],
      "source": [
        "X_train, X_test, y_train, y_test = train_test_split(features, target, random_state=1, test_size=.30)"
      ]
    },
    {
      "cell_type": "code",
      "execution_count": 180,
      "metadata": {
        "id": "kcw5sR2BmfFw"
      },
      "outputs": [],
      "source": [
        "# Evaluation function\n",
        "\n",
        "def evaluation(y_true, y_pred):\n",
        "    \n",
        "# Print Accuracy, Recall, F1 Score, and Precision metrics.\n",
        "    print('Evaluation Metrics:')\n",
        "    print('Accuracy: ' + str(metrics.accuracy_score(y_test, y_pred)))\n",
        "    print('Recall: ' + str(metrics.recall_score(y_test, y_pred)))\n",
        "    print('F1 Score: ' + str(metrics.f1_score(y_test, y_pred)))\n",
        "    print('Precision: ' + str(metrics.precision_score(y_test, y_pred)))\n",
        "    \n",
        "# Print Confusion Matrix\n",
        "    print('\\nConfusion Matrix:')\n",
        "    print(' TN,  FP, FN, TP')\n",
        "    print(confusion_matrix(y_true, y_pred).ravel())\n",
        "    \n",
        "# Function Prints best parameters for GridSearchCV\n",
        "def print_results(results):\n",
        "    print('Best Parameters: {}\\n'.format(results.best_params_)) \n",
        "    "
      ]
    },
    {
      "cell_type": "code",
      "execution_count": 181,
      "metadata": {
        "colab": {
          "base_uri": "https://localhost:8080/"
        },
        "id": "pi4HiAn4msnH",
        "outputId": "8ec48b43-55b1-496e-9c3f-5538a37f707d"
      },
      "outputs": [
        {
          "name": "stdout",
          "output_type": "stream",
          "text": [
            "Evaluation Metrics:\n",
            "Accuracy: 0.5849858356940509\n",
            "Recall: 0.6760299625468165\n",
            "F1 Score: 0.7113300492610837\n",
            "Precision: 0.7505197505197505\n",
            "\n",
            "Confusion Matrix:\n",
            " TN,  FP, FN, TP\n",
            "[ 52 120 173 361]\n"
          ]
        }
      ],
      "source": [
        "# Logistic Regression Model\n",
        "lr = LogisticRegression(C=100, max_iter=200, class_weight='balanced')\n",
        "\n",
        "# Fitting Model to the train set\n",
        "lr.fit(X_train, y_train)\n",
        "\n",
        "# Predicting on the test set\n",
        "y_pred = lr.predict(X_test)\n",
        "\n",
        "# Evaluating model\n",
        "evaluation(y_test, y_pred)"
      ]
    },
    {
      "cell_type": "code",
      "execution_count": 182,
      "metadata": {
        "colab": {
          "base_uri": "https://localhost:8080/"
        },
        "id": "935EnPpBm5hB",
        "outputId": "c6b01fce-a8b8-4ee9-e9b9-af4baeb1fde4"
      },
      "outputs": [
        {
          "name": "stdout",
          "output_type": "stream",
          "text": [
            "Evaluation Metrics:\n",
            "Accuracy: 0.7082152974504249\n",
            "Recall: 0.9063670411985019\n",
            "F1 Score: 0.8245315161839863\n",
            "Precision: 0.75625\n",
            "\n",
            "Confusion Matrix:\n",
            " TN,  FP, FN, TP\n",
            "[ 16 156  50 484]\n"
          ]
        }
      ],
      "source": [
        "knn = KNeighborsClassifier(leaf_size=8, metric='manhattan',weights='uniform')\n",
        "\n",
        "# Fitting Model to the train set\n",
        "knn.fit(X_train, y_train)\n",
        "\n",
        "# Predicting on the test set\n",
        "y_pred = knn.predict(X_test)\n",
        "\n",
        "# Evaluating model\n",
        "evaluation(y_test, y_pred)"
      ]
    },
    {
      "cell_type": "code",
      "execution_count": 183,
      "metadata": {
        "colab": {
          "base_uri": "https://localhost:8080/"
        },
        "id": "Zg00qQWpm-nO",
        "outputId": "85ee6c0c-9c0d-4356-bc8e-c9ee549f011c"
      },
      "outputs": [
        {
          "name": "stdout",
          "output_type": "stream",
          "text": [
            "Evaluation Metrics:\n",
            "Accuracy: 0.6473087818696884\n",
            "Recall: 0.7696629213483146\n",
            "F1 Score: 0.7675070028011205\n",
            "Precision: 0.7653631284916201\n",
            "\n",
            "Confusion Matrix:\n",
            " TN,  FP, FN, TP\n",
            "[ 46 126 123 411]\n"
          ]
        }
      ],
      "source": [
        "tree = DecisionTreeClassifier()\n",
        "\n",
        "# Fitting Model to the train set\n",
        "tree.fit(X_train, y_train)\n",
        "\n",
        "# Predicting on the test set\n",
        "y_pred = tree.predict(X_test)\n",
        "\n",
        "# Evaluating model\n",
        "evaluation(y_test, y_pred)"
      ]
    },
    {
      "cell_type": "code",
      "execution_count": null,
      "metadata": {
        "id": "dvra6xlc9aNx"
      },
      "outputs": [],
      "source": [
        "from sklearn.metrics import accuracy_score, confusion_matrix, classification_report\n",
        "from tqdm.notebook import tqdm\n",
        "from time import sleep"
      ]
    },
    {
      "cell_type": "markdown",
      "metadata": {
        "id": "KGTqp4fp9frY"
      },
      "source": []
    },
    {
      "cell_type": "code",
      "execution_count": 184,
      "metadata": {
        "colab": {
          "base_uri": "https://localhost:8080/"
        },
        "id": "VmbruzFxnBve",
        "outputId": "befca4a2-257a-48f5-ddc9-1385107d8620"
      },
      "outputs": [
        {
          "data": {
            "application/vnd.jupyter.widget-view+json": {
              "model_id": "e15def1c2f194b6d82a66fe4eb5e48f0",
              "version_major": 2,
              "version_minor": 0
            },
            "text/plain": [
              "  0%|          | 0/1 [00:00<?, ?it/s]"
            ]
          },
          "metadata": {},
          "output_type": "display_data"
        },
        {
          "name": "stdout",
          "output_type": "stream",
          "text": [
            "Evaluation Metrics:\n",
            "Accuracy: 0.6827195467422096\n",
            "Recall: 0.8445692883895131\n",
            "F1 Score: 0.8010657193605685\n",
            "Precision: 0.7618243243243243\n",
            "\n",
            "Confusion Matrix:\n",
            " TN,  FP, FN, TP\n",
            "[ 31 141  83 451]\n",
            "Tree: 500 \n"
          ]
        }
      ],
      "source": [
        "parameter_n_estimators = [500]\n",
        "for i in tqdm(parameter_n_estimators):\n",
        "    # Instantiate model\n",
        "    forest = RandomForestClassifier(n_estimators=i, criterion='gini')\n",
        "    # Fitting Model to the train set\n",
        "    forest.fit(X_train, y_train)\n",
        "    # Predicting on the test set\n",
        "    y_pred = forest.predict(X_test)\n",
        "\n",
        "    # Evaluating model\n",
        "    evaluation(y_test, y_pred)\n",
        "    print('Tree: %s ' % (i))"
      ]
    },
    {
      "cell_type": "code",
      "execution_count": 18,
      "metadata": {
        "id": "RdwbFpvrCns_"
      },
      "outputs": [],
      "source": [
        "import joblib\n",
        "import lightkurve as lk"
      ]
    },
    {
      "cell_type": "code",
      "execution_count": null,
      "metadata": {
        "colab": {
          "base_uri": "https://localhost:8080/"
        },
        "id": "-WCbmCpOCt0H",
        "outputId": "e5d9fa3b-7561-42c4-d6f7-55c925bd3448"
      },
      "outputs": [],
      "source": [
        "joblib.dump(forest, 'trained_models/ml_model3.joblib')"
      ]
    },
    {
      "cell_type": "code",
      "execution_count": 168,
      "metadata": {},
      "outputs": [],
      "source": [
        "T_name = '10848459'\n",
        "search_result = lk.search_lightcurve(T_name)\n",
        "lc = search_result[0].download()"
      ]
    },
    {
      "cell_type": "code",
      "execution_count": 185,
      "metadata": {},
      "outputs": [
        {
          "name": "stdout",
          "output_type": "stream",
          "text": [
            "2\n"
          ]
        }
      ],
      "source": [
        "flux = lc.flux\n",
        "arr = []\n",
        "sum = 0\n",
        "for x in range(0,1626):\n",
        "    arr.append(float(flux[x].value))\n",
        "arr2 = pd.DataFrame(arr)\n",
        "arr3 =[]\n",
        "for x in range(0,1625):\n",
        "    arr3.append(arr2[0][x])\n",
        "for x in range(0,1625):\n",
        "    temp = str(arr3[x])\n",
        "    if temp == 'nan' :\n",
        "        arr3[x] = 0\n",
        "\n"
      ]
    },
    {
      "cell_type": "code",
      "execution_count": 188,
      "metadata": {},
      "outputs": [],
      "source": [
        "arr4 = []\n",
        "for x in range(0,1625):\n",
        "    arr4.append(0)"
      ]
    },
    {
      "cell_type": "code",
      "execution_count": 189,
      "metadata": {},
      "outputs": [
        {
          "name": "stderr",
          "output_type": "stream",
          "text": [
            "/Users/thayalanpraveen/Documents/Project_Interpreter/Env/lib/python3.9/site-packages/sklearn/base.py:450: UserWarning: X does not have valid feature names, but RandomForestClassifier was fitted with feature names\n",
            "  warnings.warn(\n"
          ]
        }
      ],
      "source": [
        "test1 = forest.predict([arr4])"
      ]
    },
    {
      "cell_type": "code",
      "execution_count": 190,
      "metadata": {},
      "outputs": [
        {
          "name": "stdout",
          "output_type": "stream",
          "text": [
            "[0]\n"
          ]
        }
      ],
      "source": [
        "print(test1)"
      ]
    },
    {
      "cell_type": "code",
      "execution_count": 174,
      "metadata": {},
      "outputs": [
        {
          "name": "stdout",
          "output_type": "stream",
          "text": [
            "8198.67578125\n"
          ]
        }
      ],
      "source": [
        "print(arr[-1])"
      ]
    }
  ],
  "metadata": {
    "colab": {
      "collapsed_sections": [],
      "name": "Exoplanet_ML.ipynb",
      "provenance": []
    },
    "kernelspec": {
      "display_name": "Python 3",
      "name": "python3"
    },
    "language_info": {
      "codemirror_mode": {
        "name": "ipython",
        "version": 3
      },
      "file_extension": ".py",
      "mimetype": "text/x-python",
      "name": "python",
      "nbconvert_exporter": "python",
      "pygments_lexer": "ipython3",
      "version": "3.9.7"
    }
  },
  "nbformat": 4,
  "nbformat_minor": 0
}
