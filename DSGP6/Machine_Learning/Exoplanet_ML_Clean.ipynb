{
  "cells": [
    {
      "cell_type": "code",
      "execution_count": 1,
      "metadata": {
        "id": "cG4vt72lJb1h"
      },
      "outputs": [],
      "source": [
        "# Import packages\n",
        "%matplotlib inline\n",
        "import pandas as pd\n",
        "\n",
        "# Visualizes all the columns\n",
        "pd.set_option('display.max_columns', None)\n"
      ]
    },
    {
      "cell_type": "code",
      "execution_count": 2,
      "metadata": {
        "colab": {
          "base_uri": "https://localhost:8080/",
          "height": 288
        },
        "id": "RpW8kTEIL7LO",
        "outputId": "a725de07-291d-4b5c-ac13-441bdcf4bde4"
      },
      "outputs": [
        {
          "name": "stderr",
          "output_type": "stream",
          "text": [
            "/var/folders/4b/1fq918gd6fl1739d_dhxfvtw0000gn/T/ipykernel_12270/4220548274.py:4: DtypeWarning: Columns (70,864,1013) have mixed types. Specify dtype option on import or set low_memory=False.\n",
            "  df = pd.read_csv('lc_data.csv')\n"
          ]
        }
      ],
      "source": [
        "# Import dataset\n",
        "#path = '/content/Exoplanet_ml'\n",
        "\n",
        "df = pd.read_csv('lc_data.csv')\n"
      ]
    },
    {
      "cell_type": "code",
      "execution_count": 3,
      "metadata": {},
      "outputs": [],
      "source": [
        "df['ExoplanetCandidate'] = df['koi_disposition'].apply(lambda x: 1 if x == 'CONFIRMED' else 1 if x == 'CANDIDATE' else 0 )"
      ]
    },
    {
      "cell_type": "code",
      "execution_count": 4,
      "metadata": {},
      "outputs": [],
      "source": [
        "for (columnName, columnData) in df.iteritems():\n",
        "    if columnName == 'row' or columnName == 'kepid' or columnName == 'koi_disposition' or columnName == 'koi_score' :\n",
        "        pass\n",
        "    else:\n",
        "        for y in range(0,len(df[columnName])):\n",
        "            arr = df.loc[y,columnName]\n",
        "            try:\n",
        "                arr = str(arr)\n",
        "                arr = arr.replace(\"[\",\"\")\n",
        "                arr = arr.replace(\"]\",\"\")\n",
        "                arr = arr.replace(\" \",\"\")\n",
        "                df.loc[y,columnName] = arr\n",
        "                \n",
        "            except:\n",
        "                arr = arr.replace(\"[\",\"\")\n",
        "                arr = arr.replace(\"]\",\"\")\n",
        "                arr = arr.replace(\" \",\"\")\n",
        "                df.loc[y,columnName] = arr"
      ]
    },
    {
      "cell_type": "code",
      "execution_count": 5,
      "metadata": {},
      "outputs": [],
      "source": [
        "df.to_csv('cleaned.csv', encoding='utf-8', index= False)"
      ]
    },
    {
      "cell_type": "code",
      "execution_count": 6,
      "metadata": {},
      "outputs": [],
      "source": [
        "# Import dataset\n",
        "#path = '/content/Exoplanet_ml'\n",
        "\n",
        "df = pd.read_csv('cleaned.csv')\n"
      ]
    },
    {
      "cell_type": "code",
      "execution_count": 7,
      "metadata": {},
      "outputs": [],
      "source": [
        "for (columnName, columnData) in df.iteritems():\n",
        "    if columnName == 'row' or columnName == 'kepid' or columnName == 'koi_disposition' or columnName == 'koi_score' :\n",
        "        pass\n",
        "    else:\n",
        "        for y in range(0,len(df[columnName])):\n",
        "            arr = df.loc[y,columnName]\n",
        "            try:\n",
        "                arr = str(arr)\n",
        "                if arr == 'nan':\n",
        "                    arr = 0\n",
        "                    arr = str(arr)\n",
        "                arr = arr.replace(\"[\",\"\")\n",
        "                arr = arr.replace(\"]\",\"\")\n",
        "                arr = arr.replace(\" \",\"\")\n",
        "                df.loc[y,columnName] = arr\n",
        "                \n",
        "            except:\n",
        "                if arr == 'nan' :\n",
        "                    arr = 0\n",
        "                arr = arr.replace(\"[\",\"\")\n",
        "                arr = arr.replace(\"]\",\"\")\n",
        "                arr = arr.replace(\" \",\"\")\n",
        "                df.loc[y,columnName] = arr"
      ]
    },
    {
      "cell_type": "code",
      "execution_count": 8,
      "metadata": {},
      "outputs": [],
      "source": [
        "df.to_csv('cleaned.csv', encoding='utf-8', index= False)"
      ]
    },
    {
      "cell_type": "code",
      "execution_count": 9,
      "metadata": {},
      "outputs": [
        {
          "data": {
            "text/plain": [
              "\"\\n# Import dataset\\n#path = '/content/Exoplanet_ml'\\n\\ndf = pd.read_csv('cleaned.csv')\\n\""
            ]
          },
          "execution_count": 9,
          "metadata": {},
          "output_type": "execute_result"
        }
      ],
      "source": [
        "'''\n",
        "# Import dataset\n",
        "#path = '/content/Exoplanet_ml'\n",
        "\n",
        "df = pd.read_csv('cleaned.csv')\n",
        "'''\n"
      ]
    },
    {
      "cell_type": "code",
      "execution_count": 10,
      "metadata": {},
      "outputs": [
        {
          "data": {
            "text/plain": [
              "'\\naverage_array = []\\nfor row in df.iterrows():\\n    sum = 0\\n    for index in range(4,1628):\\n        sum = sum + row[1][index]\\n    average = sum/1625\\n    average_array.append(average)\\n'"
            ]
          },
          "execution_count": 10,
          "metadata": {},
          "output_type": "execute_result"
        }
      ],
      "source": [
        "'''\n",
        "average_array = []\n",
        "for row in df.iterrows():\n",
        "    sum = 0\n",
        "    for index in range(4,1628):\n",
        "        sum = sum + row[1][index]\n",
        "    average = sum/1625\n",
        "    average_array.append(average)\n",
        "'''"
      ]
    },
    {
      "cell_type": "code",
      "execution_count": 11,
      "metadata": {},
      "outputs": [
        {
          "data": {
            "text/plain": [
              "\"\\nfor (columnName, columnData) in df.iteritems():\\n    if columnName == 'row' or columnName == 'kepid' or columnName == 'koi_disposition' or columnName == 'koi_score' or columnName == 'ExoplanetCandidate':\\n        pass\\n    else:\\n        for y in range(0,len(df[columnName])):\\n            if df.loc[y,columnName] == 0 :\\n                df.loc[y,columnName] = average_array[y]\\n\""
            ]
          },
          "execution_count": 11,
          "metadata": {},
          "output_type": "execute_result"
        }
      ],
      "source": [
        "\n",
        "'''\n",
        "for (columnName, columnData) in df.iteritems():\n",
        "    if columnName == 'row' or columnName == 'kepid' or columnName == 'koi_disposition' or columnName == 'koi_score' or columnName == 'ExoplanetCandidate':\n",
        "        pass\n",
        "    else:\n",
        "        for y in range(0,len(df[columnName])):\n",
        "            if df.loc[y,columnName] == 0 :\n",
        "                df.loc[y,columnName] = average_array[y]\n",
        "'''"
      ]
    },
    {
      "cell_type": "code",
      "execution_count": 12,
      "metadata": {},
      "outputs": [
        {
          "data": {
            "text/plain": [
              "\"\\ndf.to_csv('cleaned.csv', encoding='utf-8', index= False)\\n\""
            ]
          },
          "execution_count": 12,
          "metadata": {},
          "output_type": "execute_result"
        }
      ],
      "source": [
        "'''\n",
        "df.to_csv('cleaned.csv', encoding='utf-8', index= False)\n",
        "'''"
      ]
    },
    {
      "cell_type": "code",
      "execution_count": 13,
      "metadata": {},
      "outputs": [
        {
          "data": {
            "text/plain": [
              "\"\\n# Import dataset\\n#path = '/content/Exoplanet_ml'\\n\\ndf = pd.read_csv('cleaned.csv')\\n\""
            ]
          },
          "execution_count": 13,
          "metadata": {},
          "output_type": "execute_result"
        }
      ],
      "source": [
        "'''\n",
        "# Import dataset\n",
        "#path = '/content/Exoplanet_ml'\n",
        "\n",
        "df = pd.read_csv('cleaned.csv')\n",
        "'''"
      ]
    }
  ],
  "metadata": {
    "colab": {
      "collapsed_sections": [],
      "name": "Exoplanet_ML.ipynb",
      "provenance": []
    },
    "kernelspec": {
      "display_name": "Python 3",
      "name": "python3"
    },
    "language_info": {
      "codemirror_mode": {
        "name": "ipython",
        "version": 3
      },
      "file_extension": ".py",
      "mimetype": "text/x-python",
      "name": "python",
      "nbconvert_exporter": "python",
      "pygments_lexer": "ipython3",
      "version": "3.9.7"
    }
  },
  "nbformat": 4,
  "nbformat_minor": 0
}
